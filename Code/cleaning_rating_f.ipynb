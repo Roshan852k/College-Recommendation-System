{
 "cells": [
  {
   "cell_type": "code",
   "execution_count": 56,
   "metadata": {},
   "outputs": [],
   "source": [
    "import pandas as pd \n",
    "import numpy as np\n",
    "import os\n",
    "import nltk\n",
    "from nltk.corpus import stopwords\n",
    "from nltk.stem.porter import PorterStemmer\n",
    "from textblob import TextBlob\n",
    "import re\n",
    "import string"
   ]
  },
  {
   "cell_type": "code",
   "execution_count": 57,
   "metadata": {},
   "outputs": [],
   "source": [
    "reviewdata=pd.read_csv('review.csv')"
   ]
  },
  {
   "cell_type": "code",
   "execution_count": 58,
   "metadata": {},
   "outputs": [
    {
     "output_type": "execute_result",
     "data": {
      "text/plain": [
       "(1270, 2)"
      ]
     },
     "metadata": {},
     "execution_count": 58
    }
   ],
   "source": [
    "reviewdata.shape"
   ]
  },
  {
   "cell_type": "code",
   "execution_count": 59,
   "metadata": {},
   "outputs": [
    {
     "output_type": "execute_result",
     "data": {
      "text/plain": [
       "                                       College Name  \\\n",
       "0  Datta Meghe College of Engineering, Navi Mumbai    \n",
       "1  Datta Meghe College of Engineering, Navi Mumbai    \n",
       "2  Datta Meghe College of Engineering, Navi Mumbai    \n",
       "3  Datta Meghe College of Engineering, Navi Mumbai    \n",
       "4  Datta Meghe College of Engineering, Navi Mumbai    \n",
       "\n",
       "                                             Reviews  \n",
       "0        If u want to go to a disciplined college...  \n",
       "1        I completed my final year in Electronics...  \n",
       "2        Hi friends, I am studying in this colleg...  \n",
       "3        Our college is best known to do enjoymen...  \n",
       "4        Good college with great placement.it has...  "
      ],
      "text/html": "<div>\n<style scoped>\n    .dataframe tbody tr th:only-of-type {\n        vertical-align: middle;\n    }\n\n    .dataframe tbody tr th {\n        vertical-align: top;\n    }\n\n    .dataframe thead th {\n        text-align: right;\n    }\n</style>\n<table border=\"1\" class=\"dataframe\">\n  <thead>\n    <tr style=\"text-align: right;\">\n      <th></th>\n      <th>College Name</th>\n      <th>Reviews</th>\n    </tr>\n  </thead>\n  <tbody>\n    <tr>\n      <th>0</th>\n      <td>Datta Meghe College of Engineering, Navi Mumbai</td>\n      <td>If u want to go to a disciplined college...</td>\n    </tr>\n    <tr>\n      <th>1</th>\n      <td>Datta Meghe College of Engineering, Navi Mumbai</td>\n      <td>I completed my final year in Electronics...</td>\n    </tr>\n    <tr>\n      <th>2</th>\n      <td>Datta Meghe College of Engineering, Navi Mumbai</td>\n      <td>Hi friends, I am studying in this colleg...</td>\n    </tr>\n    <tr>\n      <th>3</th>\n      <td>Datta Meghe College of Engineering, Navi Mumbai</td>\n      <td>Our college is best known to do enjoymen...</td>\n    </tr>\n    <tr>\n      <th>4</th>\n      <td>Datta Meghe College of Engineering, Navi Mumbai</td>\n      <td>Good college with great placement.it has...</td>\n    </tr>\n  </tbody>\n</table>\n</div>"
     },
     "metadata": {},
     "execution_count": 59
    }
   ],
   "source": [
    "reviewdata.head()\n"
   ]
  },
  {
   "cell_type": "code",
   "execution_count": 60,
   "metadata": {},
   "outputs": [],
   "source": [
    "def text_clean_1(text):\n",
    "    text=text.lower()\n",
    "    text=re.sub('\\[.*?\\]','',text)                                  \n",
    "    text=re.sub('[%s]'% re.escape(string.punctuation),'',text)      \n",
    "    text=re.sub('\\w*\\d\\w*','',text)                                 \n",
    "    text=re.sub('[''\"\"...]','',text)                                \n",
    "    text=text=re.sub('\\n','',text) \n",
    "    text=text=re.sub('\\r','',text)\n",
    "    text=text.split()\n",
    "    ps=PorterStemmer()\n",
    "    review=[ps.stem(word) for word in text if not word in set(stopwords.words('english'))]\n",
    "    text=' '.join(review)\n",
    "\n",
    "                                         \n",
    "    return text\n",
    "\n",
    "cleaned=lambda x:text_clean_1(x)"
   ]
  },
  {
   "cell_type": "code",
   "execution_count": 61,
   "metadata": {},
   "outputs": [
    {
     "output_type": "execute_result",
     "data": {
      "text/plain": [
       "                                       College Name  \\\n",
       "0  Datta Meghe College of Engineering, Navi Mumbai    \n",
       "1  Datta Meghe College of Engineering, Navi Mumbai    \n",
       "2  Datta Meghe College of Engineering, Navi Mumbai    \n",
       "3  Datta Meghe College of Engineering, Navi Mumbai    \n",
       "4  Datta Meghe College of Engineering, Navi Mumbai    \n",
       "5  Datta Meghe College of Engineering, Navi Mumbai    \n",
       "6  Datta Meghe College of Engineering, Navi Mumbai    \n",
       "7  Datta Meghe College of Engineering, Navi Mumbai    \n",
       "8  Datta Meghe College of Engineering, Navi Mumbai    \n",
       "9  Datta Meghe College of Engineering, Navi Mumbai    \n",
       "\n",
       "                                             Reviews  \\\n",
       "0        If u want to go to a disciplined college...   \n",
       "1        I completed my final year in Electronics...   \n",
       "2        Hi friends, I am studying in this colleg...   \n",
       "3        Our college is best known to do enjoymen...   \n",
       "4        Good college with great placement.it has...   \n",
       "5        The college has got a new building but i...   \n",
       "6  The festivals mentioned were quite decent this...   \n",
       "7  the canteen is changed now..a much better and ...   \n",
       "8  This college is the next best college for CIVI...   \n",
       "9  There are some reputed companies which recruit...   \n",
       "\n",
       "                                        cleaned_data  \n",
       "0  u want go disciplin colleg want indulg seriou ...  \n",
       "1  complet final year electron engin dmce year co...  \n",
       "2  hi friend studi colleg one thing make colleg o...  \n",
       "3  colleg best known enjoy enjoy refer parti play...  \n",
       "4  good colleg great placementit ground sportscan...  \n",
       "5  colleg got new build wifi servic availablegues...  \n",
       "6  festiv mention quit decent yearespeci tech fes...  \n",
       "7  canteen chang nowa much better larger oneso gu...  \n",
       "8     colleg next best colleg civil autonom institut  \n",
       "9  reput compani recruit student colleg overal ni...  "
      ],
      "text/html": "<div>\n<style scoped>\n    .dataframe tbody tr th:only-of-type {\n        vertical-align: middle;\n    }\n\n    .dataframe tbody tr th {\n        vertical-align: top;\n    }\n\n    .dataframe thead th {\n        text-align: right;\n    }\n</style>\n<table border=\"1\" class=\"dataframe\">\n  <thead>\n    <tr style=\"text-align: right;\">\n      <th></th>\n      <th>College Name</th>\n      <th>Reviews</th>\n      <th>cleaned_data</th>\n    </tr>\n  </thead>\n  <tbody>\n    <tr>\n      <th>0</th>\n      <td>Datta Meghe College of Engineering, Navi Mumbai</td>\n      <td>If u want to go to a disciplined college...</td>\n      <td>u want go disciplin colleg want indulg seriou ...</td>\n    </tr>\n    <tr>\n      <th>1</th>\n      <td>Datta Meghe College of Engineering, Navi Mumbai</td>\n      <td>I completed my final year in Electronics...</td>\n      <td>complet final year electron engin dmce year co...</td>\n    </tr>\n    <tr>\n      <th>2</th>\n      <td>Datta Meghe College of Engineering, Navi Mumbai</td>\n      <td>Hi friends, I am studying in this colleg...</td>\n      <td>hi friend studi colleg one thing make colleg o...</td>\n    </tr>\n    <tr>\n      <th>3</th>\n      <td>Datta Meghe College of Engineering, Navi Mumbai</td>\n      <td>Our college is best known to do enjoymen...</td>\n      <td>colleg best known enjoy enjoy refer parti play...</td>\n    </tr>\n    <tr>\n      <th>4</th>\n      <td>Datta Meghe College of Engineering, Navi Mumbai</td>\n      <td>Good college with great placement.it has...</td>\n      <td>good colleg great placementit ground sportscan...</td>\n    </tr>\n    <tr>\n      <th>5</th>\n      <td>Datta Meghe College of Engineering, Navi Mumbai</td>\n      <td>The college has got a new building but i...</td>\n      <td>colleg got new build wifi servic availablegues...</td>\n    </tr>\n    <tr>\n      <th>6</th>\n      <td>Datta Meghe College of Engineering, Navi Mumbai</td>\n      <td>The festivals mentioned were quite decent this...</td>\n      <td>festiv mention quit decent yearespeci tech fes...</td>\n    </tr>\n    <tr>\n      <th>7</th>\n      <td>Datta Meghe College of Engineering, Navi Mumbai</td>\n      <td>the canteen is changed now..a much better and ...</td>\n      <td>canteen chang nowa much better larger oneso gu...</td>\n    </tr>\n    <tr>\n      <th>8</th>\n      <td>Datta Meghe College of Engineering, Navi Mumbai</td>\n      <td>This college is the next best college for CIVI...</td>\n      <td>colleg next best colleg civil autonom institut</td>\n    </tr>\n    <tr>\n      <th>9</th>\n      <td>Datta Meghe College of Engineering, Navi Mumbai</td>\n      <td>There are some reputed companies which recruit...</td>\n      <td>reput compani recruit student colleg overal ni...</td>\n    </tr>\n  </tbody>\n</table>\n</div>"
     },
     "metadata": {},
     "execution_count": 61
    }
   ],
   "source": [
    "reviewdata['cleaned_data']=pd.DataFrame(reviewdata.Reviews.apply(cleaned))\n",
    "reviewdata.head(10)"
   ]
  },
  {
   "cell_type": "code",
   "execution_count": 62,
   "metadata": {},
   "outputs": [],
   "source": [
    "from vaderSentiment.vaderSentiment import SentimentIntensityAnalyzer"
   ]
  },
  {
   "cell_type": "code",
   "execution_count": 63,
   "metadata": {},
   "outputs": [],
   "source": [
    "analyzer=SentimentIntensityAnalyzer()\n",
    "\n",
    "def score_comp(text):\n",
    "    blob = analyzer.polarity_scores(text)\n",
    "    return blob['compound']\n",
    "        \n",
    "sent4=lambda x:score_comp(x)\n"
   ]
  },
  {
   "cell_type": "code",
   "execution_count": 64,
   "metadata": {
    "tags": []
   },
   "outputs": [
    {
     "output_type": "execute_result",
     "data": {
      "text/plain": [
       "                                       College Name  \\\n",
       "0  Datta Meghe College of Engineering, Navi Mumbai    \n",
       "1  Datta Meghe College of Engineering, Navi Mumbai    \n",
       "2  Datta Meghe College of Engineering, Navi Mumbai    \n",
       "3  Datta Meghe College of Engineering, Navi Mumbai    \n",
       "4  Datta Meghe College of Engineering, Navi Mumbai    \n",
       "5  Datta Meghe College of Engineering, Navi Mumbai    \n",
       "6  Datta Meghe College of Engineering, Navi Mumbai    \n",
       "7  Datta Meghe College of Engineering, Navi Mumbai    \n",
       "8  Datta Meghe College of Engineering, Navi Mumbai    \n",
       "9  Datta Meghe College of Engineering, Navi Mumbai    \n",
       "\n",
       "                                             Reviews  \\\n",
       "0        If u want to go to a disciplined college...   \n",
       "1        I completed my final year in Electronics...   \n",
       "2        Hi friends, I am studying in this colleg...   \n",
       "3        Our college is best known to do enjoymen...   \n",
       "4        Good college with great placement.it has...   \n",
       "5        The college has got a new building but i...   \n",
       "6  The festivals mentioned were quite decent this...   \n",
       "7  the canteen is changed now..a much better and ...   \n",
       "8  This college is the next best college for CIVI...   \n",
       "9  There are some reputed companies which recruit...   \n",
       "\n",
       "                                        cleaned_data  Sentiment_v_compound  \n",
       "0  u want go disciplin colleg want indulg seriou ...                0.9274  \n",
       "1  complet final year electron engin dmce year co...                0.9709  \n",
       "2  hi friend studi colleg one thing make colleg o...                0.9489  \n",
       "3  colleg best known enjoy enjoy refer parti play...                0.9892  \n",
       "4  good colleg great placementit ground sportscan...                0.9493  \n",
       "5  colleg got new build wifi servic availablegues...                0.7964  \n",
       "6  festiv mention quit decent yearespeci tech fes...                0.6901  \n",
       "7  canteen chang nowa much better larger oneso gu...                0.5859  \n",
       "8     colleg next best colleg civil autonom institut                0.6369  \n",
       "9  reput compani recruit student colleg overal ni...                0.4215  "
      ],
      "text/html": "<div>\n<style scoped>\n    .dataframe tbody tr th:only-of-type {\n        vertical-align: middle;\n    }\n\n    .dataframe tbody tr th {\n        vertical-align: top;\n    }\n\n    .dataframe thead th {\n        text-align: right;\n    }\n</style>\n<table border=\"1\" class=\"dataframe\">\n  <thead>\n    <tr style=\"text-align: right;\">\n      <th></th>\n      <th>College Name</th>\n      <th>Reviews</th>\n      <th>cleaned_data</th>\n      <th>Sentiment_v_compound</th>\n    </tr>\n  </thead>\n  <tbody>\n    <tr>\n      <th>0</th>\n      <td>Datta Meghe College of Engineering, Navi Mumbai</td>\n      <td>If u want to go to a disciplined college...</td>\n      <td>u want go disciplin colleg want indulg seriou ...</td>\n      <td>0.9274</td>\n    </tr>\n    <tr>\n      <th>1</th>\n      <td>Datta Meghe College of Engineering, Navi Mumbai</td>\n      <td>I completed my final year in Electronics...</td>\n      <td>complet final year electron engin dmce year co...</td>\n      <td>0.9709</td>\n    </tr>\n    <tr>\n      <th>2</th>\n      <td>Datta Meghe College of Engineering, Navi Mumbai</td>\n      <td>Hi friends, I am studying in this colleg...</td>\n      <td>hi friend studi colleg one thing make colleg o...</td>\n      <td>0.9489</td>\n    </tr>\n    <tr>\n      <th>3</th>\n      <td>Datta Meghe College of Engineering, Navi Mumbai</td>\n      <td>Our college is best known to do enjoymen...</td>\n      <td>colleg best known enjoy enjoy refer parti play...</td>\n      <td>0.9892</td>\n    </tr>\n    <tr>\n      <th>4</th>\n      <td>Datta Meghe College of Engineering, Navi Mumbai</td>\n      <td>Good college with great placement.it has...</td>\n      <td>good colleg great placementit ground sportscan...</td>\n      <td>0.9493</td>\n    </tr>\n    <tr>\n      <th>5</th>\n      <td>Datta Meghe College of Engineering, Navi Mumbai</td>\n      <td>The college has got a new building but i...</td>\n      <td>colleg got new build wifi servic availablegues...</td>\n      <td>0.7964</td>\n    </tr>\n    <tr>\n      <th>6</th>\n      <td>Datta Meghe College of Engineering, Navi Mumbai</td>\n      <td>The festivals mentioned were quite decent this...</td>\n      <td>festiv mention quit decent yearespeci tech fes...</td>\n      <td>0.6901</td>\n    </tr>\n    <tr>\n      <th>7</th>\n      <td>Datta Meghe College of Engineering, Navi Mumbai</td>\n      <td>the canteen is changed now..a much better and ...</td>\n      <td>canteen chang nowa much better larger oneso gu...</td>\n      <td>0.5859</td>\n    </tr>\n    <tr>\n      <th>8</th>\n      <td>Datta Meghe College of Engineering, Navi Mumbai</td>\n      <td>This college is the next best college for CIVI...</td>\n      <td>colleg next best colleg civil autonom institut</td>\n      <td>0.6369</td>\n    </tr>\n    <tr>\n      <th>9</th>\n      <td>Datta Meghe College of Engineering, Navi Mumbai</td>\n      <td>There are some reputed companies which recruit...</td>\n      <td>reput compani recruit student colleg overal ni...</td>\n      <td>0.4215</td>\n    </tr>\n  </tbody>\n</table>\n</div>"
     },
     "metadata": {},
     "execution_count": 64
    }
   ],
   "source": [
    "reviewdata['Sentiment_v_compound']=pd.DataFrame(reviewdata.Reviews.apply(sent4))\n",
    "reviewdata.head(10)"
   ]
  },
  {
   "cell_type": "code",
   "execution_count": 65,
   "metadata": {},
   "outputs": [],
   "source": [
    "def score(text):\n",
    "    blob = TextBlob(text)\n",
    "    score=round(blob.sentiment.polarity,4)\n",
    "    return score\n",
    "    \n",
    "sent=lambda x:score(x)"
   ]
  },
  {
   "cell_type": "code",
   "execution_count": 66,
   "metadata": {},
   "outputs": [
    {
     "output_type": "execute_result",
     "data": {
      "text/plain": [
       "                                       College Name  \\\n",
       "0  Datta Meghe College of Engineering, Navi Mumbai    \n",
       "1  Datta Meghe College of Engineering, Navi Mumbai    \n",
       "2  Datta Meghe College of Engineering, Navi Mumbai    \n",
       "3  Datta Meghe College of Engineering, Navi Mumbai    \n",
       "4  Datta Meghe College of Engineering, Navi Mumbai    \n",
       "5  Datta Meghe College of Engineering, Navi Mumbai    \n",
       "6  Datta Meghe College of Engineering, Navi Mumbai    \n",
       "7  Datta Meghe College of Engineering, Navi Mumbai    \n",
       "8  Datta Meghe College of Engineering, Navi Mumbai    \n",
       "9  Datta Meghe College of Engineering, Navi Mumbai    \n",
       "\n",
       "                                             Reviews  \\\n",
       "0        If u want to go to a disciplined college...   \n",
       "1        I completed my final year in Electronics...   \n",
       "2        Hi friends, I am studying in this colleg...   \n",
       "3        Our college is best known to do enjoymen...   \n",
       "4        Good college with great placement.it has...   \n",
       "5        The college has got a new building but i...   \n",
       "6  The festivals mentioned were quite decent this...   \n",
       "7  the canteen is changed now..a much better and ...   \n",
       "8  This college is the next best college for CIVI...   \n",
       "9  There are some reputed companies which recruit...   \n",
       "\n",
       "                                        cleaned_data  Sentiment_v_compound  \\\n",
       "0  u want go disciplin colleg want indulg seriou ...                0.9274   \n",
       "1  complet final year electron engin dmce year co...                0.9709   \n",
       "2  hi friend studi colleg one thing make colleg o...                0.9489   \n",
       "3  colleg best known enjoy enjoy refer parti play...                0.9892   \n",
       "4  good colleg great placementit ground sportscan...                0.9493   \n",
       "5  colleg got new build wifi servic availablegues...                0.7964   \n",
       "6  festiv mention quit decent yearespeci tech fes...                0.6901   \n",
       "7  canteen chang nowa much better larger oneso gu...                0.5859   \n",
       "8     colleg next best colleg civil autonom institut                0.6369   \n",
       "9  reput compani recruit student colleg overal ni...                0.4215   \n",
       "\n",
       "   Sentiment  \n",
       "0     0.2714  \n",
       "1     0.1824  \n",
       "2     0.3250  \n",
       "3     0.2778  \n",
       "4     0.6143  \n",
       "5     0.1730  \n",
       "6     0.5383  \n",
       "7     0.2500  \n",
       "8     0.4667  \n",
       "9     0.3000  "
      ],
      "text/html": "<div>\n<style scoped>\n    .dataframe tbody tr th:only-of-type {\n        vertical-align: middle;\n    }\n\n    .dataframe tbody tr th {\n        vertical-align: top;\n    }\n\n    .dataframe thead th {\n        text-align: right;\n    }\n</style>\n<table border=\"1\" class=\"dataframe\">\n  <thead>\n    <tr style=\"text-align: right;\">\n      <th></th>\n      <th>College Name</th>\n      <th>Reviews</th>\n      <th>cleaned_data</th>\n      <th>Sentiment_v_compound</th>\n      <th>Sentiment</th>\n    </tr>\n  </thead>\n  <tbody>\n    <tr>\n      <th>0</th>\n      <td>Datta Meghe College of Engineering, Navi Mumbai</td>\n      <td>If u want to go to a disciplined college...</td>\n      <td>u want go disciplin colleg want indulg seriou ...</td>\n      <td>0.9274</td>\n      <td>0.2714</td>\n    </tr>\n    <tr>\n      <th>1</th>\n      <td>Datta Meghe College of Engineering, Navi Mumbai</td>\n      <td>I completed my final year in Electronics...</td>\n      <td>complet final year electron engin dmce year co...</td>\n      <td>0.9709</td>\n      <td>0.1824</td>\n    </tr>\n    <tr>\n      <th>2</th>\n      <td>Datta Meghe College of Engineering, Navi Mumbai</td>\n      <td>Hi friends, I am studying in this colleg...</td>\n      <td>hi friend studi colleg one thing make colleg o...</td>\n      <td>0.9489</td>\n      <td>0.3250</td>\n    </tr>\n    <tr>\n      <th>3</th>\n      <td>Datta Meghe College of Engineering, Navi Mumbai</td>\n      <td>Our college is best known to do enjoymen...</td>\n      <td>colleg best known enjoy enjoy refer parti play...</td>\n      <td>0.9892</td>\n      <td>0.2778</td>\n    </tr>\n    <tr>\n      <th>4</th>\n      <td>Datta Meghe College of Engineering, Navi Mumbai</td>\n      <td>Good college with great placement.it has...</td>\n      <td>good colleg great placementit ground sportscan...</td>\n      <td>0.9493</td>\n      <td>0.6143</td>\n    </tr>\n    <tr>\n      <th>5</th>\n      <td>Datta Meghe College of Engineering, Navi Mumbai</td>\n      <td>The college has got a new building but i...</td>\n      <td>colleg got new build wifi servic availablegues...</td>\n      <td>0.7964</td>\n      <td>0.1730</td>\n    </tr>\n    <tr>\n      <th>6</th>\n      <td>Datta Meghe College of Engineering, Navi Mumbai</td>\n      <td>The festivals mentioned were quite decent this...</td>\n      <td>festiv mention quit decent yearespeci tech fes...</td>\n      <td>0.6901</td>\n      <td>0.5383</td>\n    </tr>\n    <tr>\n      <th>7</th>\n      <td>Datta Meghe College of Engineering, Navi Mumbai</td>\n      <td>the canteen is changed now..a much better and ...</td>\n      <td>canteen chang nowa much better larger oneso gu...</td>\n      <td>0.5859</td>\n      <td>0.2500</td>\n    </tr>\n    <tr>\n      <th>8</th>\n      <td>Datta Meghe College of Engineering, Navi Mumbai</td>\n      <td>This college is the next best college for CIVI...</td>\n      <td>colleg next best colleg civil autonom institut</td>\n      <td>0.6369</td>\n      <td>0.4667</td>\n    </tr>\n    <tr>\n      <th>9</th>\n      <td>Datta Meghe College of Engineering, Navi Mumbai</td>\n      <td>There are some reputed companies which recruit...</td>\n      <td>reput compani recruit student colleg overal ni...</td>\n      <td>0.4215</td>\n      <td>0.3000</td>\n    </tr>\n  </tbody>\n</table>\n</div>"
     },
     "metadata": {},
     "execution_count": 66
    }
   ],
   "source": [
    "reviewdata['Sentiment']=pd.DataFrame(reviewdata.Reviews.apply(sent))\n",
    "reviewdata.head(10)"
   ]
  },
  {
   "cell_type": "code",
   "execution_count": 67,
   "metadata": {},
   "outputs": [],
   "source": [
    "analyzer = SentimentIntensityAnalyzer()\n",
    "def feedback(text):\n",
    "    blob = analyzer.polarity_scores(text)\n",
    "    if(blob['neg']>=blob['pos']) and (blob['neg']>=blob['neu']):\n",
    "         return \"negative\"\n",
    "    elif(blob['pos']>=blob['neg']) and (blob['pos']>=blob['neu']):\n",
    "        return \"positive\"\n",
    "    else:\n",
    "        return \"neutral\"\n",
    "\n",
    "sent1=lambda x:feedback(x)"
   ]
  },
  {
   "cell_type": "code",
   "execution_count": 68,
   "metadata": {},
   "outputs": [
    {
     "output_type": "execute_result",
     "data": {
      "text/plain": [
       "                                       College Name  \\\n",
       "0  Datta Meghe College of Engineering, Navi Mumbai    \n",
       "1  Datta Meghe College of Engineering, Navi Mumbai    \n",
       "2  Datta Meghe College of Engineering, Navi Mumbai    \n",
       "3  Datta Meghe College of Engineering, Navi Mumbai    \n",
       "4  Datta Meghe College of Engineering, Navi Mumbai    \n",
       "5  Datta Meghe College of Engineering, Navi Mumbai    \n",
       "6  Datta Meghe College of Engineering, Navi Mumbai    \n",
       "7  Datta Meghe College of Engineering, Navi Mumbai    \n",
       "8  Datta Meghe College of Engineering, Navi Mumbai    \n",
       "9  Datta Meghe College of Engineering, Navi Mumbai    \n",
       "\n",
       "                                             Reviews  \\\n",
       "0        If u want to go to a disciplined college...   \n",
       "1        I completed my final year in Electronics...   \n",
       "2        Hi friends, I am studying in this colleg...   \n",
       "3        Our college is best known to do enjoymen...   \n",
       "4        Good college with great placement.it has...   \n",
       "5        The college has got a new building but i...   \n",
       "6  The festivals mentioned were quite decent this...   \n",
       "7  the canteen is changed now..a much better and ...   \n",
       "8  This college is the next best college for CIVI...   \n",
       "9  There are some reputed companies which recruit...   \n",
       "\n",
       "                                        cleaned_data  Sentiment_v_compound  \\\n",
       "0  u want go disciplin colleg want indulg seriou ...                0.9274   \n",
       "1  complet final year electron engin dmce year co...                0.9709   \n",
       "2  hi friend studi colleg one thing make colleg o...                0.9489   \n",
       "3  colleg best known enjoy enjoy refer parti play...                0.9892   \n",
       "4  good colleg great placementit ground sportscan...                0.9493   \n",
       "5  colleg got new build wifi servic availablegues...                0.7964   \n",
       "6  festiv mention quit decent yearespeci tech fes...                0.6901   \n",
       "7  canteen chang nowa much better larger oneso gu...                0.5859   \n",
       "8     colleg next best colleg civil autonom institut                0.6369   \n",
       "9  reput compani recruit student colleg overal ni...                0.4215   \n",
       "\n",
       "   Sentiment Feedback  \n",
       "0     0.2714  neutral  \n",
       "1     0.1824  neutral  \n",
       "2     0.3250  neutral  \n",
       "3     0.2778  neutral  \n",
       "4     0.6143  neutral  \n",
       "5     0.1730  neutral  \n",
       "6     0.5383  neutral  \n",
       "7     0.2500  neutral  \n",
       "8     0.4667  neutral  \n",
       "9     0.3000  neutral  "
      ],
      "text/html": "<div>\n<style scoped>\n    .dataframe tbody tr th:only-of-type {\n        vertical-align: middle;\n    }\n\n    .dataframe tbody tr th {\n        vertical-align: top;\n    }\n\n    .dataframe thead th {\n        text-align: right;\n    }\n</style>\n<table border=\"1\" class=\"dataframe\">\n  <thead>\n    <tr style=\"text-align: right;\">\n      <th></th>\n      <th>College Name</th>\n      <th>Reviews</th>\n      <th>cleaned_data</th>\n      <th>Sentiment_v_compound</th>\n      <th>Sentiment</th>\n      <th>Feedback</th>\n    </tr>\n  </thead>\n  <tbody>\n    <tr>\n      <th>0</th>\n      <td>Datta Meghe College of Engineering, Navi Mumbai</td>\n      <td>If u want to go to a disciplined college...</td>\n      <td>u want go disciplin colleg want indulg seriou ...</td>\n      <td>0.9274</td>\n      <td>0.2714</td>\n      <td>neutral</td>\n    </tr>\n    <tr>\n      <th>1</th>\n      <td>Datta Meghe College of Engineering, Navi Mumbai</td>\n      <td>I completed my final year in Electronics...</td>\n      <td>complet final year electron engin dmce year co...</td>\n      <td>0.9709</td>\n      <td>0.1824</td>\n      <td>neutral</td>\n    </tr>\n    <tr>\n      <th>2</th>\n      <td>Datta Meghe College of Engineering, Navi Mumbai</td>\n      <td>Hi friends, I am studying in this colleg...</td>\n      <td>hi friend studi colleg one thing make colleg o...</td>\n      <td>0.9489</td>\n      <td>0.3250</td>\n      <td>neutral</td>\n    </tr>\n    <tr>\n      <th>3</th>\n      <td>Datta Meghe College of Engineering, Navi Mumbai</td>\n      <td>Our college is best known to do enjoymen...</td>\n      <td>colleg best known enjoy enjoy refer parti play...</td>\n      <td>0.9892</td>\n      <td>0.2778</td>\n      <td>neutral</td>\n    </tr>\n    <tr>\n      <th>4</th>\n      <td>Datta Meghe College of Engineering, Navi Mumbai</td>\n      <td>Good college with great placement.it has...</td>\n      <td>good colleg great placementit ground sportscan...</td>\n      <td>0.9493</td>\n      <td>0.6143</td>\n      <td>neutral</td>\n    </tr>\n    <tr>\n      <th>5</th>\n      <td>Datta Meghe College of Engineering, Navi Mumbai</td>\n      <td>The college has got a new building but i...</td>\n      <td>colleg got new build wifi servic availablegues...</td>\n      <td>0.7964</td>\n      <td>0.1730</td>\n      <td>neutral</td>\n    </tr>\n    <tr>\n      <th>6</th>\n      <td>Datta Meghe College of Engineering, Navi Mumbai</td>\n      <td>The festivals mentioned were quite decent this...</td>\n      <td>festiv mention quit decent yearespeci tech fes...</td>\n      <td>0.6901</td>\n      <td>0.5383</td>\n      <td>neutral</td>\n    </tr>\n    <tr>\n      <th>7</th>\n      <td>Datta Meghe College of Engineering, Navi Mumbai</td>\n      <td>the canteen is changed now..a much better and ...</td>\n      <td>canteen chang nowa much better larger oneso gu...</td>\n      <td>0.5859</td>\n      <td>0.2500</td>\n      <td>neutral</td>\n    </tr>\n    <tr>\n      <th>8</th>\n      <td>Datta Meghe College of Engineering, Navi Mumbai</td>\n      <td>This college is the next best college for CIVI...</td>\n      <td>colleg next best colleg civil autonom institut</td>\n      <td>0.6369</td>\n      <td>0.4667</td>\n      <td>neutral</td>\n    </tr>\n    <tr>\n      <th>9</th>\n      <td>Datta Meghe College of Engineering, Navi Mumbai</td>\n      <td>There are some reputed companies which recruit...</td>\n      <td>reput compani recruit student colleg overal ni...</td>\n      <td>0.4215</td>\n      <td>0.3000</td>\n      <td>neutral</td>\n    </tr>\n  </tbody>\n</table>\n</div>"
     },
     "metadata": {},
     "execution_count": 68
    }
   ],
   "source": [
    "reviewdata['Feedback']=pd.DataFrame(reviewdata.Reviews.apply(sent1))\n",
    "reviewdata[:10]"
   ]
  },
  {
   "cell_type": "code",
   "execution_count": 69,
   "metadata": {},
   "outputs": [],
   "source": [
    "pos,neg,neu=0,0,0\n",
    "for i in reviewdata[\"Sentiment_v_compound\"]:\n",
    "    if i<0:\n",
    "        neg=neg+1\n",
    "    elif i==0:\n",
    "        neu=neu+1\n",
    "    else:\n",
    "        pos=pos+1"
   ]
  },
  {
   "cell_type": "code",
   "execution_count": 70,
   "metadata": {},
   "outputs": [
    {
     "output_type": "execute_result",
     "data": {
      "text/plain": [
       "1116"
      ]
     },
     "metadata": {},
     "execution_count": 70
    }
   ],
   "source": [
    "pos"
   ]
  },
  {
   "cell_type": "code",
   "execution_count": 71,
   "metadata": {},
   "outputs": [
    {
     "output_type": "execute_result",
     "data": {
      "text/plain": [
       "17"
      ]
     },
     "metadata": {},
     "execution_count": 71
    }
   ],
   "source": [
    "neu"
   ]
  },
  {
   "cell_type": "code",
   "execution_count": 72,
   "metadata": {},
   "outputs": [
    {
     "output_type": "execute_result",
     "data": {
      "text/plain": [
       "137"
      ]
     },
     "metadata": {},
     "execution_count": 72
    }
   ],
   "source": [
    "neg"
   ]
  },
  {
   "cell_type": "code",
   "execution_count": 73,
   "metadata": {},
   "outputs": [],
   "source": [
    "college_names=set(reviewdata['College Name'])"
   ]
  },
  {
   "cell_type": "code",
   "execution_count": 74,
   "metadata": {},
   "outputs": [
    {
     "output_type": "execute_result",
     "data": {
      "text/plain": [
       "College Name\n",
       "AP Shah Institute of Technology, Thane                                        36\n",
       "Atharva College of Engineering, Malad                                         39\n",
       "Bharati Vidyapeeth College of Engineering, Navi Mumbai                        32\n",
       "Datta Meghe College of Engineering, Navi Mumbai                               60\n",
       "Don Bosco Institute of Technology, Mumbai                                     37\n",
       "Dwarkadas J Sanghvi College of Engineering, Mumbai                            30\n",
       "Fr C Rodrigues Institute of Technology, Navi Mumbai                           42\n",
       "Institute of Chemical Technology, Mumbai                                      48\n",
       "KC College of Engineering and Management Studies and Research, Thane          40\n",
       "KJ Somaiya College of Engineering, Mumbai                                     54\n",
       "KJ Somaiya Institute of Engineering and Information Technology, Mumbai        46\n",
       "Lokmanya Tilak College of Engineering, Navi Mumbai                            42\n",
       "MCTs Rajiv Gandhi Institute of Technology, Mumbai                             33\n",
       "MH Saboo Siddik College of Engineering, Mumbai                                40\n",
       "Padmabhushan Vasantdada Patil Pratishthan's College of Engineering, Mumbai    36\n",
       "Pillai College of Engineering, New Panvel                                     37\n",
       "Ramrao Adik Institute of Technology, Navi Mumbai                              45\n",
       "Rizvi College of Engineering, Bandra                                          33\n",
       "SIES Graduate School of Technology, Navi Mumbai                               33\n",
       "Saraswati College of Engineering, Navi Mumbai                                 35\n",
       "Sardar Patel Institute of Technology, Mumbai                                  40\n",
       "Shivajirao S Jondhale College of Engineering, Thane                           35\n",
       "Smt Indira Gandhi College of Engineering, Navi Mumbai                         30\n",
       "St Francis Institute of Technology, Mumbai                                    32\n",
       "Terna Public Charitable Trust's Terna Engineering College, Navi Mumbai        45\n",
       "Thadomal Shahani Engineering College, Mumbai                                  51\n",
       "Thakur College of Engineering and Technology, Mumbai                          71\n",
       "Veermata Jijabai Technological Institute, Mumbai                              49\n",
       "Vidyalankar Institute of Technology, Mumbai                                   35\n",
       "Vivekanand Education Society's Institute of Technology, Chembur               49\n",
       "Xavier Institute of Engineering, Mumbai                                       35\n",
       "Name: Reviews, dtype: int64"
      ]
     },
     "metadata": {},
     "execution_count": 74
    }
   ],
   "source": [
    "college=reviewdata.groupby(\"College Name\")[\"Reviews\"].count()\n",
    "college"
   ]
  },
  {
   "cell_type": "code",
   "execution_count": 75,
   "metadata": {},
   "outputs": [],
   "source": [
    "cn1=[]\n",
    "cr1=[]\n",
    "cn2=[]\n",
    "cr2=[]\n",
    "dict={'College Name':cn1,'Rate':cr1}\n",
    "dict_s={'College Name':cn2,'Rating':cr2}"
   ]
  },
  {
   "cell_type": "code",
   "execution_count": 76,
   "metadata": {
    "tags": []
   },
   "outputs": [],
   "source": [
    "college=reviewdata.groupby(\"College Name\")\n",
    "dict_c={}\n",
    "\n",
    "for i in college_names:\n",
    "    l=[]\n",
    "    c=college.get_group(i)\n",
    "    for j in c.Sentiment_v_compound:\n",
    "        l.append(j)\n",
    "    dict_c[i]=l    \n",
    "    "
   ]
  },
  {
   "cell_type": "code",
   "execution_count": 77,
   "metadata": {},
   "outputs": [
    {
     "output_type": "stream",
     "name": "stdout",
     "text": [
      "Vidyalankar Institute of Technology, Mumbai ->4.3\nVeermata Jijabai Technological Institute, Mumbai ->4.3\nRizvi College of Engineering, Bandra->3.5\nThadomal Shahani Engineering College, Mumbai->3.8\nAtharva College of Engineering, Malad->3.6\nSIES Graduate School of Technology, Navi Mumbai->2.8\nDwarkadas J Sanghvi College of Engineering, Mumbai ->4.1\nKJ Somaiya College of Engineering, Mumbai ->4.2\nSardar Patel Institute of Technology, Mumbai->4.2\nDon Bosco Institute of Technology, Mumbai->3.6\nSmt Indira Gandhi College of Engineering, Navi Mumbai->2.0\nAP Shah Institute of Technology, Thane->3.1\nPadmabhushan Vasantdada Patil Pratishthan's College of Engineering, Mumbai->2.9\nKJ Somaiya Institute of Engineering and Information Technology, Mumbai->4.1\nRamrao Adik Institute of Technology, Navi Mumbai ->3.8\nLokmanya Tilak College of Engineering, Navi Mumbai->1.5\nInstitute of Chemical Technology, Mumbai->4.4\nXavier Institute of Engineering, Mumbai->3.2\nKC College of Engineering and Management Studies and Research, Thane->2.5\nMCTs Rajiv Gandhi Institute of Technology, Mumbai->3.1\nFr C Rodrigues Institute of Technology, Navi Mumbai ->3.3\nThakur College of Engineering and Technology, Mumbai ->3.7\nTerna Public Charitable Trust's Terna Engineering College, Navi Mumbai ->3.1\nSaraswati College of Engineering, Navi Mumbai->2.9\nBharati Vidyapeeth College of Engineering, Navi Mumbai->2.6\nSt Francis Institute of Technology, Mumbai->2.8\nVivekanand Education Society's Institute of Technology, Chembur ->3.8\nShivajirao S Jondhale College of Engineering, Thane->1.4\nPillai College of Engineering, New Panvel ->3.7\nMH Saboo Siddik College of Engineering, Mumbai->2.6\nDatta Meghe College of Engineering, Navi Mumbai ->3.1\n"
     ]
    }
   ],
   "source": [
    "for i in dict_c:\n",
    "    avg=((sum(dict_c[i])/len(dict_c[i]))*5)\n",
    "    cn1.append(i)\n",
    "    avg=round(avg,1)\n",
    "    dict_c[i]=avg\n",
    "    cr1.append(avg)\n",
    "    print(i+\"->\"+str(avg))"
   ]
  },
  {
   "cell_type": "code",
   "execution_count": 78,
   "metadata": {},
   "outputs": [
    {
     "output_type": "execute_result",
     "data": {
      "text/plain": [
       "['Institute of Chemical Technology, Mumbai',\n",
       " 'Veermata Jijabai Technological Institute, Mumbai ',\n",
       " 'Vidyalankar Institute of Technology, Mumbai ',\n",
       " 'Sardar Patel Institute of Technology, Mumbai',\n",
       " 'KJ Somaiya College of Engineering, Mumbai ',\n",
       " 'KJ Somaiya Institute of Engineering and Information Technology, Mumbai',\n",
       " 'Dwarkadas J Sanghvi College of Engineering, Mumbai ',\n",
       " \"Vivekanand Education Society's Institute of Technology, Chembur \",\n",
       " 'Ramrao Adik Institute of Technology, Navi Mumbai ',\n",
       " 'Thadomal Shahani Engineering College, Mumbai',\n",
       " 'Pillai College of Engineering, New Panvel ',\n",
       " 'Thakur College of Engineering and Technology, Mumbai ',\n",
       " 'Don Bosco Institute of Technology, Mumbai',\n",
       " 'Atharva College of Engineering, Malad',\n",
       " 'Rizvi College of Engineering, Bandra',\n",
       " 'Fr C Rodrigues Institute of Technology, Navi Mumbai ',\n",
       " 'Xavier Institute of Engineering, Mumbai',\n",
       " 'Datta Meghe College of Engineering, Navi Mumbai ',\n",
       " \"Terna Public Charitable Trust's Terna Engineering College, Navi Mumbai \",\n",
       " 'MCTs Rajiv Gandhi Institute of Technology, Mumbai',\n",
       " 'AP Shah Institute of Technology, Thane',\n",
       " 'Saraswati College of Engineering, Navi Mumbai',\n",
       " \"Padmabhushan Vasantdada Patil Pratishthan's College of Engineering, Mumbai\",\n",
       " 'St Francis Institute of Technology, Mumbai',\n",
       " 'SIES Graduate School of Technology, Navi Mumbai',\n",
       " 'MH Saboo Siddik College of Engineering, Mumbai',\n",
       " 'Bharati Vidyapeeth College of Engineering, Navi Mumbai',\n",
       " 'KC College of Engineering and Management Studies and Research, Thane',\n",
       " 'Smt Indira Gandhi College of Engineering, Navi Mumbai',\n",
       " 'Lokmanya Tilak College of Engineering, Navi Mumbai',\n",
       " 'Shivajirao S Jondhale College of Engineering, Thane']"
      ]
     },
     "metadata": {},
     "execution_count": 78
    }
   ],
   "source": [
    "list(reversed(sorted(dict_c,key=dict_c.get)))"
   ]
  },
  {
   "cell_type": "code",
   "execution_count": 84,
   "metadata": {},
   "outputs": [],
   "source": [
    "for i in dict:\n",
    "    cn2.append(i)\n",
    "    cr2.append(dict[i])"
   ]
  },
  {
   "cell_type": "code",
   "execution_count": null,
   "metadata": {},
   "outputs": [],
   "source": [
    "df=pd.DataFrame(dict_s)\n",
    "df.to_csv('rating.csv')   "
   ]
  }
 ],
 "metadata": {
  "kernelspec": {
   "name": "python394jvsc74a57bd0ee5cc6fef2d70a7e71ee3826687cbd150f18158e0b1eef11d4f4f92bb920e304",
   "display_name": "Python 3.9.4 64-bit"
  },
  "language_info": {
   "codemirror_mode": {
    "name": "ipython",
    "version": 3
   },
   "file_extension": ".py",
   "mimetype": "text/x-python",
   "name": "python",
   "nbconvert_exporter": "python",
   "pygments_lexer": "ipython3",
   "version": "3.9.4"
  },
  "metadata": {
   "interpreter": {
    "hash": "ee5cc6fef2d70a7e71ee3826687cbd150f18158e0b1eef11d4f4f92bb920e304"
   }
  }
 },
 "nbformat": 4,
 "nbformat_minor": 2
}